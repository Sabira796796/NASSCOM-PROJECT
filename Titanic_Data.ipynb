{
  "nbformat": 4,
  "nbformat_minor": 0,
  "metadata": {
    "colab": {
      "name": "Titanic Data.ipynb",
      "provenance": []
    },
    "kernelspec": {
      "name": "python3",
      "display_name": "Python 3"
    },
    "language_info": {
      "name": "python"
    }
  },
  "cells": [
    {
      "cell_type": "markdown",
      "metadata": {
        "id": "7pT1B0LLxbJ2"
      },
      "source": [
        "#Titanic Data EDA using seaborn\n",
        "\n",
        "what is EDA?\n",
        "\n",
        "\n",
        "Exploratory Data Analysis (EDA) is a method used to analyze and summarize datasets. Majority of the EDA techniques involve the use of graphs.\n",
        "\n",
        "Titanic Dataset – \n",
        "It is one of the most popular datasets used for understanding machine learning basics. It contains information of all the passengers aboard the RMS Titanic, which unfortunately was shipwrecked. This dataset can be used to predict whether a given passenger survived or not. "
      ]
    },
    {
      "cell_type": "code",
      "metadata": {
        "id": "ysxlAf-JxfwE"
      },
      "source": [
        "import matplotlib.pyplot as plt\n",
        "import pandas as pd\n",
        "import numpy as np\n"
      ],
      "execution_count": 20,
      "outputs": []
    },
    {
      "cell_type": "code",
      "metadata": {
        "id": "z3d0PcDrPJ_c"
      },
      "source": [
        "#loading data\n",
        "titanic=pd.read_csv(\"train.csv\")"
      ],
      "execution_count": 30,
      "outputs": []
    },
    {
      "cell_type": "markdown",
      "metadata": {
        "id": "JGdC9cO8xbc1"
      },
      "source": [
        "Seaborn: \n",
        "It is a python library used to statistically visualize data. Seaborn, built over Matplotlib, provides a better interface and ease of usage. It can be installed using the following command, \n",
        "pip3 install seaborn\n",
        "\n",
        "#Code: Printing data head  "
      ]
    },
    {
      "cell_type": "code",
      "metadata": {
        "id": "ggT4fayuz5vk",
        "colab": {
          "base_uri": "https://localhost:8080/",
          "height": 205
        },
        "outputId": "416e8223-e5d8-4965-c4b1-edde643ed0ba"
      },
      "source": [
        "# View first five rows of the dataset\n",
        "titanic.head()\n"
      ],
      "execution_count": 22,
      "outputs": [
        {
          "output_type": "execute_result",
          "data": {
            "text/html": [
              "<div>\n",
              "<style scoped>\n",
              "    .dataframe tbody tr th:only-of-type {\n",
              "        vertical-align: middle;\n",
              "    }\n",
              "\n",
              "    .dataframe tbody tr th {\n",
              "        vertical-align: top;\n",
              "    }\n",
              "\n",
              "    .dataframe thead th {\n",
              "        text-align: right;\n",
              "    }\n",
              "</style>\n",
              "<table border=\"1\" class=\"dataframe\">\n",
              "  <thead>\n",
              "    <tr style=\"text-align: right;\">\n",
              "      <th></th>\n",
              "      <th>PassengerId</th>\n",
              "      <th>Survived</th>\n",
              "      <th>Pclass</th>\n",
              "      <th>Name</th>\n",
              "      <th>Sex</th>\n",
              "      <th>Age</th>\n",
              "      <th>SibSp</th>\n",
              "      <th>Parch</th>\n",
              "      <th>Ticket</th>\n",
              "      <th>Fare</th>\n",
              "      <th>Cabin</th>\n",
              "      <th>Embarked</th>\n",
              "    </tr>\n",
              "  </thead>\n",
              "  <tbody>\n",
              "    <tr>\n",
              "      <th>0</th>\n",
              "      <td>1</td>\n",
              "      <td>0</td>\n",
              "      <td>3</td>\n",
              "      <td>Braund, Mr. Owen Harris</td>\n",
              "      <td>male</td>\n",
              "      <td>22.0</td>\n",
              "      <td>1</td>\n",
              "      <td>0</td>\n",
              "      <td>A/5 21171</td>\n",
              "      <td>7.2500</td>\n",
              "      <td>NaN</td>\n",
              "      <td>S</td>\n",
              "    </tr>\n",
              "    <tr>\n",
              "      <th>1</th>\n",
              "      <td>2</td>\n",
              "      <td>1</td>\n",
              "      <td>1</td>\n",
              "      <td>Cumings, Mrs. John Bradley (Florence Briggs Th...</td>\n",
              "      <td>female</td>\n",
              "      <td>38.0</td>\n",
              "      <td>1</td>\n",
              "      <td>0</td>\n",
              "      <td>PC 17599</td>\n",
              "      <td>71.2833</td>\n",
              "      <td>C85</td>\n",
              "      <td>C</td>\n",
              "    </tr>\n",
              "    <tr>\n",
              "      <th>2</th>\n",
              "      <td>3</td>\n",
              "      <td>1</td>\n",
              "      <td>3</td>\n",
              "      <td>Heikkinen, Miss. Laina</td>\n",
              "      <td>female</td>\n",
              "      <td>26.0</td>\n",
              "      <td>0</td>\n",
              "      <td>0</td>\n",
              "      <td>STON/O2. 3101282</td>\n",
              "      <td>7.9250</td>\n",
              "      <td>NaN</td>\n",
              "      <td>S</td>\n",
              "    </tr>\n",
              "    <tr>\n",
              "      <th>3</th>\n",
              "      <td>4</td>\n",
              "      <td>1</td>\n",
              "      <td>1</td>\n",
              "      <td>Futrelle, Mrs. Jacques Heath (Lily May Peel)</td>\n",
              "      <td>female</td>\n",
              "      <td>35.0</td>\n",
              "      <td>1</td>\n",
              "      <td>0</td>\n",
              "      <td>113803</td>\n",
              "      <td>53.1000</td>\n",
              "      <td>C123</td>\n",
              "      <td>S</td>\n",
              "    </tr>\n",
              "    <tr>\n",
              "      <th>4</th>\n",
              "      <td>5</td>\n",
              "      <td>0</td>\n",
              "      <td>3</td>\n",
              "      <td>Allen, Mr. William Henry</td>\n",
              "      <td>male</td>\n",
              "      <td>35.0</td>\n",
              "      <td>0</td>\n",
              "      <td>0</td>\n",
              "      <td>373450</td>\n",
              "      <td>8.0500</td>\n",
              "      <td>NaN</td>\n",
              "      <td>S</td>\n",
              "    </tr>\n",
              "  </tbody>\n",
              "</table>\n",
              "</div>"
            ],
            "text/plain": [
              "   PassengerId  Survived  Pclass  ...     Fare Cabin  Embarked\n",
              "0            1         0       3  ...   7.2500   NaN         S\n",
              "1            2         1       1  ...  71.2833   C85         C\n",
              "2            3         1       3  ...   7.9250   NaN         S\n",
              "3            4         1       1  ...  53.1000  C123         S\n",
              "4            5         0       3  ...   8.0500   NaN         S\n",
              "\n",
              "[5 rows x 12 columns]"
            ]
          },
          "metadata": {},
          "execution_count": 22
        }
      ]
    },
    {
      "cell_type": "markdown",
      "metadata": {
        "id": "X5HdBBaQz61Y"
      },
      "source": [
        "#Code: Checking the NULL values "
      ]
    },
    {
      "cell_type": "code",
      "metadata": {
        "id": "RANZ1kBQz8fZ",
        "colab": {
          "base_uri": "https://localhost:8080/"
        },
        "outputId": "ef54de3c-9c79-4878-f26b-8e612b93304d"
      },
      "source": [
        "titanic.isnull().sum()\n",
        "\n"
      ],
      "execution_count": 23,
      "outputs": [
        {
          "output_type": "execute_result",
          "data": {
            "text/plain": [
              "PassengerId      0\n",
              "Survived         0\n",
              "Pclass           0\n",
              "Name             0\n",
              "Sex              0\n",
              "Age            177\n",
              "SibSp            0\n",
              "Parch            0\n",
              "Ticket           0\n",
              "Fare             0\n",
              "Cabin          687\n",
              "Embarked         2\n",
              "dtype: int64"
            ]
          },
          "metadata": {},
          "execution_count": 23
        }
      ]
    },
    {
      "cell_type": "markdown",
      "metadata": {
        "id": "OD4dew3_z9gX"
      },
      "source": [
        "The columns having null values are: Age, Cabin, Embarked. They need to be filled up with appropriate values later on.\n",
        "\n",
        "Features: The titanic dataset has roughly the following types of features:\n",
        "\n",
        "* Categorical/Nominal: Variables that can be divided into multiple categories but having no order or priority. \n",
        "Eg. Embarked (C = Cherbourg; Q = Queenstown; S = Southampton)\n",
        "* Binary: A subtype of categorical features, where the variable has only two categories. \n",
        "Eg: Sex (Male/Female)\n",
        "Ordinal: They are similar to categorical features but they have an order(i.e can be sorted). \n",
        "Eg. Pclass (1, 2, 3)\n",
        "* Continuous: They can take upt having no order or priority. \n",
        "Eg. Embarked (C = Cherbourg; Q = Queenstown; S = Southampton)\n",
        "* Binary: A subtype of categorical features, where the variable has only two categories. \n",
        "Eg: Sex (Male/Female)\n",
        "Ordinal: They are similar to categorical features but they have an order(i.e can be sorted). \n",
        "Eg. Pclass (1, 2, 3)\n",
        "* Continuous: They can take up any value between the minimum and maximum values in a column. \n",
        "Eg. Age, Fare\n",
        "Count: They represent the count of a variable. \n",
        "Eg. SibSp, Parch\n",
        "* Useless: They don’t contribute to the final outcome of an ML model. Here, PassengerId, Name, Cabin and Ticket might fall into this category.\n",
        "\n",
        "\n",
        "#Code: Graphical Analysis "
      ]
    },
    {
      "cell_type": "code",
      "metadata": {
        "id": "3TEvjaoR04jX",
        "colab": {
          "base_uri": "https://localhost:8080/",
          "height": 387
        },
        "outputId": "9a88bf05-5ee2-40ba-fd18-920148cf3df9"
      },
      "source": [
        "import seaborn as sns\n",
        "import matplotlib.pyplot as plt\n",
        "\n",
        "# Countplot\n",
        "sns.catplot(x =\"Sex\", hue =\"Survived\",\n",
        "kind =\"count\", data = titanic)\n"
      ],
      "execution_count": 24,
      "outputs": [
        {
          "output_type": "execute_result",
          "data": {
            "text/plain": [
              "<seaborn.axisgrid.FacetGrid at 0x7f1712136990>"
            ]
          },
          "metadata": {},
          "execution_count": 24
        },
        {
          "output_type": "display_data",
          "data": {
            "image/png": "[encoded data removed]",
            "text/plain": [
              "<Figure size 411.875x360 with 1 Axes>"
            ]
          },
          "metadata": {
            "needs_background": "light"
          }
        }
      ]
    },
    {
      "cell_type": "markdown",
      "metadata": {
        "id": "u4IzSmdJ05fd"
      },
      "source": [
        "Just by observing the graph, it can be approximated that the survival rate of men is around 20% and that of women is around 75%. Therefore, whether a passenger is a male or a female plays an important role in determining if one is going to survive.\n",
        "\n",
        "#Code : Pclass (Ordinal Feature) vs Survived "
      ]
    },
    {
      "cell_type": "code",
      "metadata": {
        "id": "ym228q-E07mI",
        "colab": {
          "base_uri": "https://localhost:8080/",
          "height": 297
        },
        "outputId": "e0290045-588f-45c7-bf00-5f05bd7bd738"
      },
      "source": [
        "# Group the dataset by Pclass and Survived and then unstack them\n",
        "group = titanic.groupby(['Pclass', 'Survived'])\n",
        "pclass_survived = group.size().unstack()\n",
        "\n",
        "# Heatmap - Color encoded 2D representation of data.\n",
        "sns.heatmap(pclass_survived, annot = True, fmt =\"d\")\n"
      ],
      "execution_count": 25,
      "outputs": [
        {
          "output_type": "execute_result",
          "data": {
            "text/plain": [
              "<matplotlib.axes._subplots.AxesSubplot at 0x7f17085042d0>"
            ]
          },
          "metadata": {},
          "execution_count": 25
        },
        {
          "output_type": "display_data",
          "data": {
            "image/png": "[encoded data removed]",
            "text/plain": [
              "<Figure size 432x288 with 2 Axes>"
            ]
          },
          "metadata": {
            "needs_background": "light"
          }
        }
      ]
    },
    {
      "cell_type": "markdown",
      "metadata": {
        "id": "AzEfoQjD1Drg"
      },
      "source": [
        "It helps in determining if higher-class passengers had more survival rate than the lower class ones or vice versa. Class 1 passengers have a higher survival chance compared to classes 2 and 3. It implies that Pclass contributes a lot to a passenger’s survival rate.\n",
        "\n",
        "#Code : Age (Continuous Feature) vsSurvived  \n",
        "\n",
        "\n"
      ]
    },
    {
      "cell_type": "code",
      "metadata": {
        "id": "IpjnxhZD1hyP",
        "colab": {
          "base_uri": "https://localhost:8080/",
          "height": 297
        },
        "outputId": "d0fb6125-17c0-46f6-e881-0ef652b1ffaf"
      },
      "source": [
        "# Violinplot Displays distribution of data\n",
        "# across all levels of a category.\n",
        "sns.violinplot(x =\"Sex\", y =\"Age\", hue =\"Survived\",\n",
        "data = titanic, split = True)\n"
      ],
      "execution_count": 26,
      "outputs": [
        {
          "output_type": "execute_result",
          "data": {
            "text/plain": [
              "<matplotlib.axes._subplots.AxesSubplot at 0x7f1708051190>"
            ]
          },
          "metadata": {},
          "execution_count": 26
        },
        {
          "output_type": "display_data",
          "data": {
            "image/png": "[encoded data removed]",
            "text/plain": [
              "<Figure size 432x288 with 1 Axes>"
            ]
          },
          "metadata": {
            "needs_background": "light"
          }
        }
      ]
    },
    {
      "cell_type": "markdown",
      "metadata": {
        "id": "RPEH8QPI1igE"
      },
      "source": [
        "This graph gives a summary of the age range of men, women and children who were saved. The survival rate is –  \n",
        "\n",
        "* Good for children.\n",
        "* High for women in the age range 20-50.\n",
        "* Less for men as the age increases.\n",
        "\n",
        "\n",
        "Since Age column is important, the missing values need to be filled, either by using the Name column(ascertaining age based on salutation – Mr, Mrs etc.) or by using a regressor. \n",
        "After this step, another column – Age_Range (based on age column) can be created and the data can be analyzed again. \n",
        "\n",
        "#Code : Factor plot for Family_Size (Count Feature) and Family Size.  "
      ]
    },
    {
      "cell_type": "code",
      "metadata": {
        "id": "8TtkpwgH1wib",
        "colab": {
          "base_uri": "https://localhost:8080/",
          "height": 832
        },
        "outputId": "35a941ad-a590-4c77-cd1f-40e5f1363e4f"
      },
      "source": [
        "# Adding a column Family_Size\n",
        "titanic['Family_Size'] = 0\n",
        "titanic['Family_Size'] = titanic['Parch']+titanic['SibSp']\n",
        "\n",
        "# Adding a column Alone\n",
        "titanic['Alone'] = 0\n",
        "titanic.loc[titanic.Family_Size == 0, 'Alone'] = 1\n",
        "\n",
        "# Factorplot for Family_Size\n",
        "sns.factorplot(x ='Family_Size', y ='Survived', data = titanic)\n",
        "\n",
        "# Factorplot for Alone\n",
        "sns.factorplot(x ='Alone', y ='Survived', data = titanic)\n"
      ],
      "execution_count": 27,
      "outputs": [
        {
          "output_type": "stream",
          "name": "stderr",
          "text": [
            "/usr/local/lib/python3.7/dist-packages/seaborn/categorical.py:3717: UserWarning: The `factorplot` function has been renamed to `catplot`. The original name will be removed in a future release. Please update your code. Note that the default `kind` in `factorplot` (`'point'`) has changed `'strip'` in `catplot`.\n",
            "  warnings.warn(msg)\n",
            "/usr/local/lib/python3.7/dist-packages/seaborn/categorical.py:3717: UserWarning: The `factorplot` function has been renamed to `catplot`. The original name will be removed in a future release. Please update your code. Note that the default `kind` in `factorplot` (`'point'`) has changed `'strip'` in `catplot`.\n",
            "  warnings.warn(msg)\n"
          ]
        },
        {
          "output_type": "execute_result",
          "data": {
            "text/plain": [
              "<seaborn.axisgrid.FacetGrid at 0x7f17085044d0>"
            ]
          },
          "metadata": {},
          "execution_count": 27
        },
        {
          "output_type": "display_data",
          "data": {
            "image/png": "[encoded data removed]",
            "text/plain": [
              "<Figure size 360x360 with 1 Axes>"
            ]
          },
          "metadata": {
            "needs_background": "light"
          }
        },
        {
          "output_type": "display_data",
          "data": {
            "image/png": "[encoded data removed]",
            "text/plain": [
              "<Figure size 360x360 with 1 Axes>"
            ]
          },
          "metadata": {
            "needs_background": "light"
          }
        }
      ]
    },
    {
      "cell_type": "markdown",
      "metadata": {
        "id": "cqOGTg0Y1xlV"
      },
      "source": [
        "Family_Size denotes the number of people in a passenger’s family. It is calculated by summing the SibSp and Parch columns of a respective passenger. Also, another column Alone is added to check the chances of survival of a lone passenger against the one with a family.\n",
        "\n",
        "Important observations – \n",
        "\n",
        "\n",
        "* If a passenger is alone, the survival rate is less.\n",
        "* If the family size is greater than 5, chances of survival decrease considerably.\n",
        "\n",
        "\n",
        "Code : Bar Plot for Fare (Continuous Feature)  "
      ]
    },
    {
      "cell_type": "code",
      "metadata": {
        "id": "cs-rmjaY2XLc",
        "colab": {
          "base_uri": "https://localhost:8080/",
          "height": 298
        },
        "outputId": "9c221a71-c4dc-4b05-8f56-d0253e5072c7"
      },
      "source": [
        "# Divide Fare into 4 bins\n",
        "titanic['Fare_Range'] = pd.qcut(titanic['Fare'], 4)\n",
        "\n",
        "# Barplot - Shows approximate values based\n",
        "# on the height of bars.\n",
        "sns.barplot(x ='Fare_Range', y ='Survived',\n",
        "data = titanic)\n"
      ],
      "execution_count": 28,
      "outputs": [
        {
          "output_type": "execute_result",
          "data": {
            "text/plain": [
              "<matplotlib.axes._subplots.AxesSubplot at 0x7f1705ee0610>"
            ]
          },
          "metadata": {},
          "execution_count": 28
        },
        {
          "output_type": "display_data",
          "data": {
            "image/png": "[encoded data removed]",
            "text/plain": [
              "<Figure size 432x288 with 1 Axes>"
            ]
          },
          "metadata": {
            "needs_background": "light"
          }
        }
      ]
    },
    {
      "cell_type": "markdown",
      "metadata": {
        "id": "4Y9GQt8C2YSA"
      },
      "source": [
        "\n",
        "#Code: Categorical Count Plots for Embarked Feature  \n"
      ]
    },
    {
      "cell_type": "code",
      "metadata": {
        "id": "4wWC1GQi4CcC",
        "colab": {
          "base_uri": "https://localhost:8080/",
          "height": 385
        },
        "outputId": "ee64d235-e9a5-4948-c43e-bc5781cae224"
      },
      "source": [
        "# Countplot\n",
        "sns.catplot(x ='Embarked', hue ='Survived',\n",
        "kind ='count', col ='Pclass', data = titanic)\n",
        "\n"
      ],
      "execution_count": 29,
      "outputs": [
        {
          "output_type": "execute_result",
          "data": {
            "text/plain": [
              "<seaborn.axisgrid.FacetGrid at 0x7f1705dbc5d0>"
            ]
          },
          "metadata": {},
          "execution_count": 29
        },
        {
          "output_type": "display_data",
          "data": {
            "image/png": "[encoded data removed]",
            "text/plain": [
              "<Figure size 1131.88x360 with 3 Axes>"
            ]
          },
          "metadata": {
            "needs_background": "light"
          }
        }
      ]
    },
    {
      "cell_type": "markdown",
      "metadata": {
        "id": "hIOehefz4DXN"
      },
      "source": [
        "Some notable observations are: \n",
        "\n",
        "Majority of the passengers boarded from S. So, the missing values can be filled with S.\n",
        "Majority of class 3 passengers boarded from Q.\n",
        "S looks lucky for class 1 and 2 passengers compared to class 3.\n",
        "Conclusion :  \n",
        "\n",
        "* The columns that can be dropped are: \n",
        "  \n",
        "   * PassengerId, Name, Ticket, Cabin: They are strings, cannot be categorized and don’t contribute much to the outcome. \n",
        "   *Age, Fare: Instead, the respective range columns are retained.\n",
        "*The titanic data can be analyzed using many more graph techniques and also more column correlations, than, as described in this article.\n",
        "*Once the EDA is completed, the resultant dataset can be used for predictions.\n",
        "\n",
        "\n",
        "\n",
        "\n",
        "\n",
        "\n"
      ]
    }
  ]
}